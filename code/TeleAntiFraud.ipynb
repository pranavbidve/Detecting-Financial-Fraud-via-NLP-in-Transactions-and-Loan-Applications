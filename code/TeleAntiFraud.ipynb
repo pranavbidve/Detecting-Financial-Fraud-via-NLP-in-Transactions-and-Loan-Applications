{
 "cells": [
  {
   "cell_type": "code",
   "execution_count": 1,
   "id": "3b5bf328",
   "metadata": {},
   "outputs": [
    {
     "name": "stderr",
     "output_type": "stream",
     "text": [
      "c:\\Users\\justi\\anaconda3\\envs\\capstone\\Lib\\site-packages\\tqdm\\auto.py:21: TqdmWarning: IProgress not found. Please update jupyter and ipywidgets. See https://ipywidgets.readthedocs.io/en/stable/user_install.html\n",
      "  from .autonotebook import tqdm as notebook_tqdm\n"
     ]
    }
   ],
   "source": [
    "import pandas as pd\n",
    "import os\n",
    "import zipfile\n",
    "import json\n",
    "import re\n",
    "from transformers import pipeline"
   ]
  },
  {
   "cell_type": "code",
   "execution_count": null,
   "id": "4f1fd184",
   "metadata": {},
   "outputs": [],
   "source": [
    "# base_dir = r\"../data/TeleAntiFraud-28k/merged_result\"\n",
    "# rows = []\n",
    "\n",
    "# for root, dirs, files in os.walk(base_dir):\n",
    "#     for file in files:\n",
    "#         if file == \"config.json\":\n",
    "#             with open(os.path.join(root, file), \"r\") as f:\n",
    "#                 data = json.load(f)\n",
    "                \n",
    "#             # Aggregate left/right messages\n",
    "#             left_texts = [seg[\"content\"] for seg in data[\"audio_segments\"] if seg[\"role\"] == \"left\"]\n",
    "#             right_texts = [seg[\"content\"] for seg in data[\"audio_segments\"] if seg[\"role\"] == \"right\"]\n",
    "\n",
    "#             # Combine full conversation (in chronological order)\n",
    "#             full_text = \" \".join([seg[\"content\"] for seg in data[\"audio_segments\"]])\n",
    "\n",
    "#             # Determine label (POS/NEG)\n",
    "#             label = \"POS\" if \"POS\" in root else \"NEG\"\n",
    "\n",
    "#             rows.append({\n",
    "#                 \"conversation_id\": root.split(os.sep)[-1],\n",
    "#                 \"label\": label,\n",
    "#                 \"left_text\": \" \".join(left_texts),\n",
    "#                 \"right_text\": \" \".join(right_texts),\n",
    "#                 \"full_text\": full_text\n",
    "#             })\n",
    "\n",
    "# df = pd.DataFrame(rows)\n",
    "# df.to_csv(\"../data/TeleAntiFraud/cleaned_conversations.csv\", index=False, encoding=\"utf-8-sig\")\n",
    "# print(f\"Extracted {len(df)} conversations.\")\n"
   ]
  },
  {
   "cell_type": "code",
   "execution_count": 10,
   "id": "55269650",
   "metadata": {},
   "outputs": [],
   "source": [
    "def detect_fraud_type(text):\n",
    "    if pd.isna(text) or text.strip() == \"\":\n",
    "        return None\n",
    "\n",
    "    text = text.lower()\n",
    "\n",
    "    # Define keyword patterns using chinese characters\n",
    "    fraud_patterns = {\n",
    "        \"Investment Scam\": r\"(投资|理财|收益|基金|股票|回报|分红)\",\n",
    "        \"Loan Scam\": r\"(贷款|借款|信用|征信|额度|分期)\",\n",
    "        \"Telecom Scam\": r\"(电话|公安|银行|账户|冻结|验证码|转账)\",\n",
    "        \"Impersonation Scam\": r\"(警察|客服|工作人员|冒充|身份)\",\n",
    "        \"Lottery/Prize Scam\": r\"(中奖|礼品|领取|抽奖|奖励|活动)\"\n",
    "    }\n",
    "\n",
    "    for fraud_type, pattern in fraud_patterns.items():\n",
    "        if re.search(pattern, text):\n",
    "            return fraud_type\n",
    "\n",
    "    return \"Other Scam\"  # default for fraud but unknown type"
   ]
  },
  {
   "cell_type": "code",
   "execution_count": 14,
   "id": "6a0f8835",
   "metadata": {},
   "outputs": [],
   "source": [
    "df = pd.read_csv(\"../data/TeleAntiFraud/cleaned_conversations.csv\")\n",
    "df[\"fraud_type\"] = df.apply(\n",
    "    lambda row: detect_fraud_type(row[\"full_text\"]) if row[\"label\"] == \"NEG\" else None,\n",
    "    axis=1\n",
    ")"
   ]
  },
  {
   "cell_type": "code",
   "execution_count": 15,
   "id": "6661fc2d",
   "metadata": {},
   "outputs": [
    {
     "name": "stderr",
     "output_type": "stream",
     "text": [
      "100%|██████████| 8902/8902 [1:00:17<00:00,  2.46it/s]\n"
     ]
    }
   ],
   "source": [
    "from deep_translator import GoogleTranslator # could also use other translators like deepl or openai, but google translator is the fastest\n",
    "from tqdm import tqdm\n",
    "\n",
    "translator = GoogleTranslator(source='zh-CN', target='en')\n",
    "\n",
    "if \"perp_text_en\" not in df.columns:\n",
    "    df[\"perp_text_en\"] = \"\"\n",
    "# df[\"victim_text_en\"] = \"\"\n",
    "# df[\"full_text_en\"] = \"\"\n",
    "\n",
    "for i in tqdm(range(len(df))):\n",
    "    try:\n",
    "        # Only translate fraud cases (NEG) and skip already-translated rows\n",
    "        if df.loc[i, \"label\"] == \"POS\":  # could also use df.loc[i, \"fraud_type\"] == \"Loan Scam\" for just translating loan scam cases or comment out for all cases\n",
    "            if pd.notna(df.loc[i, \"left_text\"]) and (df.loc[i, \"perp_text_en\"] == \"\" or pd.isna(df.loc[i, \"perp_text_en\"])):\n",
    "                df.loc[i, \"perp_text_en\"] = translator.translate(df.loc[i, \"left_text\"])\n",
    "            \n",
    "            # Uncomment below to also translate victim or full text\n",
    "            # if pd.notna(df.loc[i, \"right_text\"]) and (df.loc[i, \"victim_text_en\"] == \"\" or pd.isna(df.loc[i, \"victim_text_en\"])):\n",
    "            #     df.loc[i, \"victim_text_en\"] = translator.translate(df.loc[i, \"right_text\"])\n",
    "            #\n",
    "            # if pd.notna(df.loc[i, \"full_text\"]) and (df.loc[i, \"full_text_en\"] == \"\" or pd.isna(df.loc[i, \"full_text_en\"])):\n",
    "            #     df.loc[i, \"full_text_en\"] = translator.translate(df.loc[i, \"full_text\"])\n",
    "    except Exception as e:\n",
    "        print(f\"Error at row {i}: {e}\")\n",
    "        continue"
   ]
  },
  {
   "cell_type": "code",
   "execution_count": 16,
   "id": "a1867f55",
   "metadata": {},
   "outputs": [],
   "source": [
    "df.to_csv(\"../data/TeleAntiFraud/cleaned_conversations.csv\", index=False, encoding=\"utf-8-sig\")"
   ]
  }
 ],
 "metadata": {
  "kernelspec": {
   "display_name": "capstone",
   "language": "python",
   "name": "python3"
  },
  "language_info": {
   "codemirror_mode": {
    "name": "ipython",
    "version": 3
   },
   "file_extension": ".py",
   "mimetype": "text/x-python",
   "name": "python",
   "nbconvert_exporter": "python",
   "pygments_lexer": "ipython3",
   "version": "3.11.10"
  }
 },
 "nbformat": 4,
 "nbformat_minor": 5
}
